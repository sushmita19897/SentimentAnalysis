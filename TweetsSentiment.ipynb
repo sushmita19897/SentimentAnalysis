{
  "nbformat": 4,
  "nbformat_minor": 0,
  "metadata": {
    "colab": {
      "name": "TweetsSentiment.ipynb",
      "provenance": [],
      "toc_visible": true
    },
    "kernelspec": {
      "name": "python3",
      "display_name": "Python 3"
    }
  },
  "cells": [
    {
      "cell_type": "code",
      "metadata": {
        "colab": {
          "base_uri": "https://localhost:8080/"
        },
        "id": "qAVOQw-qcD5V",
        "outputId": "3012ddcf-c041-4835-eeb4-c466180a58d7"
      },
      "source": [
        "\n",
        "!pip install lemminflect\n",
        "import numpy as np\n",
        "import pandas as pd\n",
        "from nltk.corpus import stopwords\n",
        "import re\n",
        "import string\n",
        "from  nltk.tokenize import word_tokenize\n",
        "from nltk.corpus import stopwords\n",
        "from nltk.stem.wordnet import WordNetLemmatizer"
      ],
      "execution_count": null,
      "outputs": [
        {
          "output_type": "stream",
          "text": [
            "Collecting lemminflect\n",
            "\u001b[?25l  Downloading https://files.pythonhosted.org/packages/4b/67/d04ca98b661d4ad52b9b965c9dabb1f1a2c85541d20f8decb9a9df4e4b32/lemminflect-0.2.2-py3-none-any.whl (769kB)\n",
            "\r\u001b[K     |▍                               | 10kB 12.7MB/s eta 0:00:01\r\u001b[K     |▉                               | 20kB 11.1MB/s eta 0:00:01\r\u001b[K     |█▎                              | 30kB 8.6MB/s eta 0:00:01\r\u001b[K     |█▊                              | 40kB 7.2MB/s eta 0:00:01\r\u001b[K     |██▏                             | 51kB 4.4MB/s eta 0:00:01\r\u001b[K     |██▋                             | 61kB 4.9MB/s eta 0:00:01\r\u001b[K     |███                             | 71kB 5.0MB/s eta 0:00:01\r\u001b[K     |███▍                            | 81kB 5.2MB/s eta 0:00:01\r\u001b[K     |███▉                            | 92kB 5.3MB/s eta 0:00:01\r\u001b[K     |████▎                           | 102kB 4.2MB/s eta 0:00:01\r\u001b[K     |████▊                           | 112kB 4.2MB/s eta 0:00:01\r\u001b[K     |█████▏                          | 122kB 4.2MB/s eta 0:00:01\r\u001b[K     |█████▌                          | 133kB 4.2MB/s eta 0:00:01\r\u001b[K     |██████                          | 143kB 4.2MB/s eta 0:00:01\r\u001b[K     |██████▍                         | 153kB 4.2MB/s eta 0:00:01\r\u001b[K     |██████▉                         | 163kB 4.2MB/s eta 0:00:01\r\u001b[K     |███████▎                        | 174kB 4.2MB/s eta 0:00:01\r\u001b[K     |███████▊                        | 184kB 4.2MB/s eta 0:00:01\r\u001b[K     |████████                        | 194kB 4.2MB/s eta 0:00:01\r\u001b[K     |████████▌                       | 204kB 4.2MB/s eta 0:00:01\r\u001b[K     |█████████                       | 215kB 4.2MB/s eta 0:00:01\r\u001b[K     |█████████▍                      | 225kB 4.2MB/s eta 0:00:01\r\u001b[K     |█████████▉                      | 235kB 4.2MB/s eta 0:00:01\r\u001b[K     |██████████▎                     | 245kB 4.2MB/s eta 0:00:01\r\u001b[K     |██████████▋                     | 256kB 4.2MB/s eta 0:00:01\r\u001b[K     |███████████                     | 266kB 4.2MB/s eta 0:00:01\r\u001b[K     |███████████▌                    | 276kB 4.2MB/s eta 0:00:01\r\u001b[K     |████████████                    | 286kB 4.2MB/s eta 0:00:01\r\u001b[K     |████████████▍                   | 296kB 4.2MB/s eta 0:00:01\r\u001b[K     |████████████▉                   | 307kB 4.2MB/s eta 0:00:01\r\u001b[K     |█████████████▏                  | 317kB 4.2MB/s eta 0:00:01\r\u001b[K     |█████████████▋                  | 327kB 4.2MB/s eta 0:00:01\r\u001b[K     |██████████████                  | 337kB 4.2MB/s eta 0:00:01\r\u001b[K     |██████████████▌                 | 348kB 4.2MB/s eta 0:00:01\r\u001b[K     |███████████████                 | 358kB 4.2MB/s eta 0:00:01\r\u001b[K     |███████████████▍                | 368kB 4.2MB/s eta 0:00:01\r\u001b[K     |███████████████▊                | 378kB 4.2MB/s eta 0:00:01\r\u001b[K     |████████████████▏               | 389kB 4.2MB/s eta 0:00:01\r\u001b[K     |████████████████▋               | 399kB 4.2MB/s eta 0:00:01\r\u001b[K     |█████████████████               | 409kB 4.2MB/s eta 0:00:01\r\u001b[K     |█████████████████▌              | 419kB 4.2MB/s eta 0:00:01\r\u001b[K     |██████████████████              | 430kB 4.2MB/s eta 0:00:01\r\u001b[K     |██████████████████▎             | 440kB 4.2MB/s eta 0:00:01\r\u001b[K     |██████████████████▊             | 450kB 4.2MB/s eta 0:00:01\r\u001b[K     |███████████████████▏            | 460kB 4.2MB/s eta 0:00:01\r\u001b[K     |███████████████████▋            | 471kB 4.2MB/s eta 0:00:01\r\u001b[K     |████████████████████            | 481kB 4.2MB/s eta 0:00:01\r\u001b[K     |████████████████████▌           | 491kB 4.2MB/s eta 0:00:01\r\u001b[K     |████████████████████▉           | 501kB 4.2MB/s eta 0:00:01\r\u001b[K     |█████████████████████▎          | 512kB 4.2MB/s eta 0:00:01\r\u001b[K     |█████████████████████▊          | 522kB 4.2MB/s eta 0:00:01\r\u001b[K     |██████████████████████▏         | 532kB 4.2MB/s eta 0:00:01\r\u001b[K     |██████████████████████▋         | 542kB 4.2MB/s eta 0:00:01\r\u001b[K     |███████████████████████         | 552kB 4.2MB/s eta 0:00:01\r\u001b[K     |███████████████████████▍        | 563kB 4.2MB/s eta 0:00:01\r\u001b[K     |███████████████████████▉        | 573kB 4.2MB/s eta 0:00:01\r\u001b[K     |████████████████████████▎       | 583kB 4.2MB/s eta 0:00:01\r\u001b[K     |████████████████████████▊       | 593kB 4.2MB/s eta 0:00:01\r\u001b[K     |█████████████████████████▏      | 604kB 4.2MB/s eta 0:00:01\r\u001b[K     |█████████████████████████▋      | 614kB 4.2MB/s eta 0:00:01\r\u001b[K     |██████████████████████████      | 624kB 4.2MB/s eta 0:00:01\r\u001b[K     |██████████████████████████▍     | 634kB 4.2MB/s eta 0:00:01\r\u001b[K     |██████████████████████████▉     | 645kB 4.2MB/s eta 0:00:01\r\u001b[K     |███████████████████████████▎    | 655kB 4.2MB/s eta 0:00:01\r\u001b[K     |███████████████████████████▊    | 665kB 4.2MB/s eta 0:00:01\r\u001b[K     |████████████████████████████▏   | 675kB 4.2MB/s eta 0:00:01\r\u001b[K     |████████████████████████████▌   | 686kB 4.2MB/s eta 0:00:01\r\u001b[K     |█████████████████████████████   | 696kB 4.2MB/s eta 0:00:01\r\u001b[K     |█████████████████████████████▍  | 706kB 4.2MB/s eta 0:00:01\r\u001b[K     |█████████████████████████████▉  | 716kB 4.2MB/s eta 0:00:01\r\u001b[K     |██████████████████████████████▎ | 727kB 4.2MB/s eta 0:00:01\r\u001b[K     |██████████████████████████████▊ | 737kB 4.2MB/s eta 0:00:01\r\u001b[K     |███████████████████████████████ | 747kB 4.2MB/s eta 0:00:01\r\u001b[K     |███████████████████████████████▌| 757kB 4.2MB/s eta 0:00:01\r\u001b[K     |████████████████████████████████| 768kB 4.2MB/s eta 0:00:01\r\u001b[K     |████████████████████████████████| 778kB 4.2MB/s \n",
            "\u001b[?25hRequirement already satisfied: numpy in /usr/local/lib/python3.7/dist-packages (from lemminflect) (1.19.5)\n",
            "Installing collected packages: lemminflect\n",
            "Successfully installed lemminflect-0.2.2\n"
          ],
          "name": "stdout"
        }
      ]
    },
    {
      "cell_type": "code",
      "metadata": {
        "colab": {
          "base_uri": "https://localhost:8080/"
        },
        "id": "CsF5h1Y4eH2s",
        "outputId": "0853bd0c-2a6a-4afd-e8f7-efe1a5f303e8"
      },
      "source": [
        "dataset_columns = [\"target\", \"id\", \"date\", \"flag\", \"user\",\"text\"]\n",
        "dataset_encoding = \"ISO-8859-1\"\n",
        "data = pd.read_csv('twitter.csv', encoding= dataset_encoding, names = dataset_columns, engine  = \"python\", error_bad_lines= False)\n",
        "data.head()\n",
        "X = data.iloc[:,[5]]\n",
        "Y = data.iloc[:,0]\n",
        "Y[Y == 4]=1\n"
      ],
      "execution_count": null,
      "outputs": [
        {
          "output_type": "stream",
          "text": [
            "Skipping line 456650: unexpected end of data\n",
            "/usr/local/lib/python3.7/dist-packages/ipykernel_launcher.py:7: SettingWithCopyWarning: \n",
            "A value is trying to be set on a copy of a slice from a DataFrame\n",
            "\n",
            "See the caveats in the documentation: https://pandas.pydata.org/pandas-docs/stable/user_guide/indexing.html#returning-a-view-versus-a-copy\n",
            "  import sys\n"
          ],
          "name": "stderr"
        }
      ]
    },
    {
      "cell_type": "code",
      "metadata": {
        "colab": {
          "base_uri": "https://localhost:8080/",
          "height": 204
        },
        "id": "E8WmDs3oqyts",
        "outputId": "f727eff6-42df-40ab-f664-3d7b60f4be06"
      },
      "source": [
        "data.head()"
      ],
      "execution_count": null,
      "outputs": [
        {
          "output_type": "execute_result",
          "data": {
            "text/html": [
              "<div>\n",
              "<style scoped>\n",
              "    .dataframe tbody tr th:only-of-type {\n",
              "        vertical-align: middle;\n",
              "    }\n",
              "\n",
              "    .dataframe tbody tr th {\n",
              "        vertical-align: top;\n",
              "    }\n",
              "\n",
              "    .dataframe thead th {\n",
              "        text-align: right;\n",
              "    }\n",
              "</style>\n",
              "<table border=\"1\" class=\"dataframe\">\n",
              "  <thead>\n",
              "    <tr style=\"text-align: right;\">\n",
              "      <th></th>\n",
              "      <th>target</th>\n",
              "      <th>id</th>\n",
              "      <th>date</th>\n",
              "      <th>flag</th>\n",
              "      <th>user</th>\n",
              "      <th>text</th>\n",
              "    </tr>\n",
              "  </thead>\n",
              "  <tbody>\n",
              "    <tr>\n",
              "      <th>0</th>\n",
              "      <td>0</td>\n",
              "      <td>1467810369</td>\n",
              "      <td>Mon Apr 06 22:19:45 PDT 2009</td>\n",
              "      <td>NO_QUERY</td>\n",
              "      <td>_TheSpecialOne_</td>\n",
              "      <td>@switchfoot http://twitpic.com/2y1zl - Awww, t...</td>\n",
              "    </tr>\n",
              "    <tr>\n",
              "      <th>1</th>\n",
              "      <td>0</td>\n",
              "      <td>1467810672</td>\n",
              "      <td>Mon Apr 06 22:19:49 PDT 2009</td>\n",
              "      <td>NO_QUERY</td>\n",
              "      <td>scotthamilton</td>\n",
              "      <td>is upset that he can't update his Facebook by ...</td>\n",
              "    </tr>\n",
              "    <tr>\n",
              "      <th>2</th>\n",
              "      <td>0</td>\n",
              "      <td>1467810917</td>\n",
              "      <td>Mon Apr 06 22:19:53 PDT 2009</td>\n",
              "      <td>NO_QUERY</td>\n",
              "      <td>mattycus</td>\n",
              "      <td>@Kenichan I dived many times for the ball. Man...</td>\n",
              "    </tr>\n",
              "    <tr>\n",
              "      <th>3</th>\n",
              "      <td>0</td>\n",
              "      <td>1467811184</td>\n",
              "      <td>Mon Apr 06 22:19:57 PDT 2009</td>\n",
              "      <td>NO_QUERY</td>\n",
              "      <td>ElleCTF</td>\n",
              "      <td>my whole body feels itchy and like its on fire</td>\n",
              "    </tr>\n",
              "    <tr>\n",
              "      <th>4</th>\n",
              "      <td>0</td>\n",
              "      <td>1467811193</td>\n",
              "      <td>Mon Apr 06 22:19:57 PDT 2009</td>\n",
              "      <td>NO_QUERY</td>\n",
              "      <td>Karoli</td>\n",
              "      <td>@nationwideclass no, it's not behaving at all....</td>\n",
              "    </tr>\n",
              "  </tbody>\n",
              "</table>\n",
              "</div>"
            ],
            "text/plain": [
              "   target  ...                                               text\n",
              "0       0  ...  @switchfoot http://twitpic.com/2y1zl - Awww, t...\n",
              "1       0  ...  is upset that he can't update his Facebook by ...\n",
              "2       0  ...  @Kenichan I dived many times for the ball. Man...\n",
              "3       0  ...    my whole body feels itchy and like its on fire \n",
              "4       0  ...  @nationwideclass no, it's not behaving at all....\n",
              "\n",
              "[5 rows x 6 columns]"
            ]
          },
          "metadata": {
            "tags": []
          },
          "execution_count": 4
        }
      ]
    },
    {
      "cell_type": "code",
      "metadata": {
        "colab": {
          "base_uri": "https://localhost:8080/"
        },
        "id": "WiIivq7mhxs-",
        "outputId": "669d5a2a-dd82-4b41-fe9d-b34cee92aa7c"
      },
      "source": [
        "import nltk\n",
        "nltk.download('punkt')\n",
        "nltk.download('wordnet')\n",
        "nltk.download('stopwords')\n",
        "num_missing_desc = data.isnull().sum()[2]\n",
        "print('numbr of missing values', str(num_missing_desc))\n",
        "data = data.dropna()\n",
        "tag_cleaning_re= \"@\\S+\"\n",
        "#tagremoval\n",
        "X['text'] = X['text'].map(lambda x : re.sub(tag_cleaning_re,'',str(x)))\n",
        "X['text'] = X['text'].map(lambda x : x.lower()) #lowercase conversion\n",
        "X['text'] = X['text'].map(lambda x : re.sub(r'\\d+','',x)) # number removaal\n",
        "\n",
        "text_cleaning_link = \"https?:\\S+|http?:\\S|[^A-Za-z0-9]+\"\n",
        "X['text'] = X['text'].map(lambda x : re.sub('text_cleaning_link', \"\" , str(x)))\n",
        "X['text'] = X['text'].map(lambda x : x.translate(x.maketrans('','', string.punctuation)))  #remove punctuation\n",
        "X['text'] = X['text'].map(lambda x : x.strip())  # remove whitespace\n",
        "X['text'] = X['text'].map(lambda x : word_tokenize(x))\n",
        "X['text'] = X['text'].map(lambda x : [word for word in x if word.isalpha()])  #to remove alphabets\n",
        "stop_word = set(stopwords.words('english'))\n",
        "X['text'] = X['text'].map(lambda x : [w for w in x if not w in stop_word]) # stop word filterization \n",
        "\n",
        "lem = WordNetLemmatizer\n",
        "X['text'] = X['text'].map(lambda x: [lem.lemmatize(word,'v') for word in x])\n",
        "\n",
        "# Turn lists back to string\n",
        "X['text'] = X['text'].map(lambda x: ' '.join(x))"
      ],
      "execution_count": null,
      "outputs": [
        {
          "output_type": "stream",
          "text": [
            "[nltk_data] Downloading package punkt to /root/nltk_data...\n",
            "[nltk_data]   Unzipping tokenizers/punkt.zip.\n",
            "[nltk_data] Downloading package wordnet to /root/nltk_data...\n",
            "[nltk_data]   Unzipping corpora/wordnet.zip.\n",
            "[nltk_data] Downloading package stopwords to /root/nltk_data...\n",
            "[nltk_data]   Unzipping corpora/stopwords.zip.\n"
          ],
          "name": "stdout"
        },
        {
          "output_type": "error",
          "ename": "NameError",
          "evalue": "ignored",
          "traceback": [
            "\u001b[0;31m---------------------------------------------------------------------------\u001b[0m",
            "\u001b[0;31mNameError\u001b[0m                                 Traceback (most recent call last)",
            "\u001b[0;32m<ipython-input-1-01f3a36bde0d>\u001b[0m in \u001b[0;36m<module>\u001b[0;34m()\u001b[0m\n\u001b[1;32m      3\u001b[0m \u001b[0mnltk\u001b[0m\u001b[0;34m.\u001b[0m\u001b[0mdownload\u001b[0m\u001b[0;34m(\u001b[0m\u001b[0;34m'wordnet'\u001b[0m\u001b[0;34m)\u001b[0m\u001b[0;34m\u001b[0m\u001b[0;34m\u001b[0m\u001b[0m\n\u001b[1;32m      4\u001b[0m \u001b[0mnltk\u001b[0m\u001b[0;34m.\u001b[0m\u001b[0mdownload\u001b[0m\u001b[0;34m(\u001b[0m\u001b[0;34m'stopwords'\u001b[0m\u001b[0;34m)\u001b[0m\u001b[0;34m\u001b[0m\u001b[0;34m\u001b[0m\u001b[0m\n\u001b[0;32m----> 5\u001b[0;31m \u001b[0mnum_missing_desc\u001b[0m \u001b[0;34m=\u001b[0m \u001b[0mdata\u001b[0m\u001b[0;34m.\u001b[0m\u001b[0misnull\u001b[0m\u001b[0;34m(\u001b[0m\u001b[0;34m)\u001b[0m\u001b[0;34m.\u001b[0m\u001b[0msum\u001b[0m\u001b[0;34m(\u001b[0m\u001b[0;34m)\u001b[0m\u001b[0;34m[\u001b[0m\u001b[0;36m2\u001b[0m\u001b[0;34m]\u001b[0m\u001b[0;34m\u001b[0m\u001b[0;34m\u001b[0m\u001b[0m\n\u001b[0m\u001b[1;32m      6\u001b[0m \u001b[0mprint\u001b[0m\u001b[0;34m(\u001b[0m\u001b[0;34m'numbr of missing values'\u001b[0m\u001b[0;34m,\u001b[0m \u001b[0mstr\u001b[0m\u001b[0;34m(\u001b[0m\u001b[0mnum_missing_desc\u001b[0m\u001b[0;34m)\u001b[0m\u001b[0;34m)\u001b[0m\u001b[0;34m\u001b[0m\u001b[0;34m\u001b[0m\u001b[0m\n\u001b[1;32m      7\u001b[0m \u001b[0mdata\u001b[0m \u001b[0;34m=\u001b[0m \u001b[0mdata\u001b[0m\u001b[0;34m.\u001b[0m\u001b[0mdropna\u001b[0m\u001b[0;34m(\u001b[0m\u001b[0;34m)\u001b[0m\u001b[0;34m\u001b[0m\u001b[0;34m\u001b[0m\u001b[0m\n",
            "\u001b[0;31mNameError\u001b[0m: name 'data' is not defined"
          ]
        }
      ]
    },
    {
      "cell_type": "code",
      "metadata": {
        "colab": {
          "base_uri": "https://localhost:8080/",
          "height": 359
        },
        "id": "lP_AKe7cc_3T",
        "outputId": "ab2ac42f-925d-4e34-d47d-63c0abbd0233"
      },
      "source": [
        "X.head(10)"
      ],
      "execution_count": null,
      "outputs": [
        {
          "output_type": "execute_result",
          "data": {
            "text/html": [
              "<div>\n",
              "<style scoped>\n",
              "    .dataframe tbody tr th:only-of-type {\n",
              "        vertical-align: middle;\n",
              "    }\n",
              "\n",
              "    .dataframe tbody tr th {\n",
              "        vertical-align: top;\n",
              "    }\n",
              "\n",
              "    .dataframe thead th {\n",
              "        text-align: right;\n",
              "    }\n",
              "</style>\n",
              "<table border=\"1\" class=\"dataframe\">\n",
              "  <thead>\n",
              "    <tr style=\"text-align: right;\">\n",
              "      <th></th>\n",
              "      <th>text</th>\n",
              "    </tr>\n",
              "  </thead>\n",
              "  <tbody>\n",
              "    <tr>\n",
              "      <th>0</th>\n",
              "      <td>v v v v v v v v v v</td>\n",
              "    </tr>\n",
              "    <tr>\n",
              "      <th>1</th>\n",
              "      <td>v v v v v v v v v v v v</td>\n",
              "    </tr>\n",
              "    <tr>\n",
              "      <th>2</th>\n",
              "      <td>v v v v v v v v v</td>\n",
              "    </tr>\n",
              "    <tr>\n",
              "      <th>3</th>\n",
              "      <td>v v v v v v</td>\n",
              "    </tr>\n",
              "    <tr>\n",
              "      <th>4</th>\n",
              "      <td>v v v v v</td>\n",
              "    </tr>\n",
              "    <tr>\n",
              "      <th>5</th>\n",
              "      <td>v v</td>\n",
              "    </tr>\n",
              "    <tr>\n",
              "      <th>6</th>\n",
              "      <td>v v</td>\n",
              "    </tr>\n",
              "    <tr>\n",
              "      <th>7</th>\n",
              "      <td>v v v v v v v v v v v v v</td>\n",
              "    </tr>\n",
              "    <tr>\n",
              "      <th>8</th>\n",
              "      <td>v v</td>\n",
              "    </tr>\n",
              "    <tr>\n",
              "      <th>9</th>\n",
              "      <td>v v</td>\n",
              "    </tr>\n",
              "  </tbody>\n",
              "</table>\n",
              "</div>"
            ],
            "text/plain": [
              "                        text\n",
              "0        v v v v v v v v v v\n",
              "1    v v v v v v v v v v v v\n",
              "2          v v v v v v v v v\n",
              "3                v v v v v v\n",
              "4                  v v v v v\n",
              "5                        v v\n",
              "6                        v v\n",
              "7  v v v v v v v v v v v v v\n",
              "8                        v v\n",
              "9                        v v"
            ]
          },
          "metadata": {
            "tags": []
          },
          "execution_count": 15
        }
      ]
    },
    {
      "cell_type": "code",
      "metadata": {
        "colab": {
          "base_uri": "https://localhost:8080/"
        },
        "id": "w91L5Wb27Itf",
        "outputId": "c4ffd1ff-886b-4cb1-ca48-80e84c610222"
      },
      "source": [
        "from sklearn.model_selection import train_test_split\n",
        "X_train,X_test,y_test,y_tarin = train_test_split(X,Y,test_size = 0.2,random_state =42)\n",
        "print(\"Train size\", len(X_train))\n",
        "print(\"test size\", len(X_test))"
      ],
      "execution_count": null,
      "outputs": [
        {
          "output_type": "stream",
          "text": [
            "Train size 365319\n",
            "test size 91330\n"
          ],
          "name": "stdout"
        }
      ]
    },
    {
      "cell_type": "code",
      "metadata": {
        "id": "8P0MNeXwtHJZ"
      },
      "source": [
        "import gensim\n",
        "from gensim.models import word2vec\n",
        "W2V_SIZE = 300\n",
        "W2V_WINDOW = 7\n",
        "W2V_EPOCH = 32\n",
        "W2V_MIN_COUNT = 10\n",
        "document = [_text.split() for _text in str(X_test.text)]\n",
        "w2v_model = word2vec.Word2Vec(size = W2V_SIZE, window = W2V_WINDOW, min_count = W2V_MIN_COUNT, workers = 8)\n",
        "w2v_model.build_vocab(document)\n",
        "\n"
      ],
      "execution_count": null,
      "outputs": []
    },
    {
      "cell_type": "code",
      "metadata": {
        "colab": {
          "base_uri": "https://localhost:8080/"
        },
        "id": "g3fGLFGV0KnK",
        "outputId": "2f6e6e9b-a976-4569-e6d5-29accd535054"
      },
      "source": [
        "words = w2v_model.wv.vocab.keys()\n",
        "vocab_size = len(words)\n",
        "print(\"vocab size\", vocab_size)"
      ],
      "execution_count": null,
      "outputs": [
        {
          "output_type": "stream",
          "text": [
            "vocab size 1\n"
          ],
          "name": "stdout"
        }
      ]
    },
    {
      "cell_type": "code",
      "metadata": {
        "colab": {
          "base_uri": "https://localhost:8080/"
        },
        "id": "Qqb-q9or04gf",
        "outputId": "f9388904-8927-45eb-93ec-153e0b9269ca"
      },
      "source": [
        "w2v_model.train(document, total_examples = len(document),epochs= W2V_EPOCH)"
      ],
      "execution_count": null,
      "outputs": [
        {
          "output_type": "execute_result",
          "data": {
            "text/plain": [
              "(80, 5568)"
            ]
          },
          "metadata": {
            "tags": []
          },
          "execution_count": 13
        }
      ]
    },
    {
      "cell_type": "code",
      "metadata": {
        "colab": {
          "base_uri": "https://localhost:8080/",
          "height": 360
        },
        "id": "tWEu-Txg1WOS",
        "outputId": "f3fcf9c5-74c5-4b76-e735-a454d8c54c2c"
      },
      "source": [
        "w2v_model.most_similar(\"hate\")"
      ],
      "execution_count": null,
      "outputs": [
        {
          "output_type": "stream",
          "text": [
            "/usr/local/lib/python3.7/dist-packages/ipykernel_launcher.py:1: DeprecationWarning: Call to deprecated `most_similar` (Method will be removed in 4.0.0, use self.wv.most_similar() instead).\n",
            "  \"\"\"Entry point for launching an IPython kernel.\n"
          ],
          "name": "stderr"
        },
        {
          "output_type": "error",
          "ename": "KeyError",
          "evalue": "ignored",
          "traceback": [
            "\u001b[0;31m---------------------------------------------------------------------------\u001b[0m",
            "\u001b[0;31mKeyError\u001b[0m                                  Traceback (most recent call last)",
            "\u001b[0;32m<ipython-input-14-989a8b4124ff>\u001b[0m in \u001b[0;36m<module>\u001b[0;34m()\u001b[0m\n\u001b[0;32m----> 1\u001b[0;31m \u001b[0mw2v_model\u001b[0m\u001b[0;34m.\u001b[0m\u001b[0mmost_similar\u001b[0m\u001b[0;34m(\u001b[0m\u001b[0;34m\"hate\"\u001b[0m\u001b[0;34m)\u001b[0m\u001b[0;34m\u001b[0m\u001b[0;34m\u001b[0m\u001b[0m\n\u001b[0m",
            "\u001b[0;32m/usr/local/lib/python3.7/dist-packages/gensim/utils.py\u001b[0m in \u001b[0;36mnew_func1\u001b[0;34m(*args, **kwargs)\u001b[0m\n\u001b[1;32m   1420\u001b[0m                     \u001b[0mstacklevel\u001b[0m\u001b[0;34m=\u001b[0m\u001b[0;36m2\u001b[0m\u001b[0;34m\u001b[0m\u001b[0;34m\u001b[0m\u001b[0m\n\u001b[1;32m   1421\u001b[0m                 )\n\u001b[0;32m-> 1422\u001b[0;31m                 \u001b[0;32mreturn\u001b[0m \u001b[0mfunc\u001b[0m\u001b[0;34m(\u001b[0m\u001b[0;34m*\u001b[0m\u001b[0margs\u001b[0m\u001b[0;34m,\u001b[0m \u001b[0;34m**\u001b[0m\u001b[0mkwargs\u001b[0m\u001b[0;34m)\u001b[0m\u001b[0;34m\u001b[0m\u001b[0;34m\u001b[0m\u001b[0m\n\u001b[0m\u001b[1;32m   1423\u001b[0m \u001b[0;34m\u001b[0m\u001b[0m\n\u001b[1;32m   1424\u001b[0m             \u001b[0;32mreturn\u001b[0m \u001b[0mnew_func1\u001b[0m\u001b[0;34m\u001b[0m\u001b[0;34m\u001b[0m\u001b[0m\n",
            "\u001b[0;32m/usr/local/lib/python3.7/dist-packages/gensim/models/base_any2vec.py\u001b[0m in \u001b[0;36mmost_similar\u001b[0;34m(self, positive, negative, topn, restrict_vocab, indexer)\u001b[0m\n\u001b[1;32m   1395\u001b[0m \u001b[0;34m\u001b[0m\u001b[0m\n\u001b[1;32m   1396\u001b[0m         \"\"\"\n\u001b[0;32m-> 1397\u001b[0;31m         \u001b[0;32mreturn\u001b[0m \u001b[0mself\u001b[0m\u001b[0;34m.\u001b[0m\u001b[0mwv\u001b[0m\u001b[0;34m.\u001b[0m\u001b[0mmost_similar\u001b[0m\u001b[0;34m(\u001b[0m\u001b[0mpositive\u001b[0m\u001b[0;34m,\u001b[0m \u001b[0mnegative\u001b[0m\u001b[0;34m,\u001b[0m \u001b[0mtopn\u001b[0m\u001b[0;34m,\u001b[0m \u001b[0mrestrict_vocab\u001b[0m\u001b[0;34m,\u001b[0m \u001b[0mindexer\u001b[0m\u001b[0;34m)\u001b[0m\u001b[0;34m\u001b[0m\u001b[0;34m\u001b[0m\u001b[0m\n\u001b[0m\u001b[1;32m   1398\u001b[0m \u001b[0;34m\u001b[0m\u001b[0m\n\u001b[1;32m   1399\u001b[0m     \u001b[0;34m@\u001b[0m\u001b[0mdeprecated\u001b[0m\u001b[0;34m(\u001b[0m\u001b[0;34m\"Method will be removed in 4.0.0, use self.wv.wmdistance() instead\"\u001b[0m\u001b[0;34m)\u001b[0m\u001b[0;34m\u001b[0m\u001b[0;34m\u001b[0m\u001b[0m\n",
            "\u001b[0;32m/usr/local/lib/python3.7/dist-packages/gensim/models/keyedvectors.py\u001b[0m in \u001b[0;36mmost_similar\u001b[0;34m(self, positive, negative, topn, restrict_vocab, indexer)\u001b[0m\n\u001b[1;32m    529\u001b[0m                 \u001b[0mmean\u001b[0m\u001b[0;34m.\u001b[0m\u001b[0mappend\u001b[0m\u001b[0;34m(\u001b[0m\u001b[0mweight\u001b[0m \u001b[0;34m*\u001b[0m \u001b[0mword\u001b[0m\u001b[0;34m)\u001b[0m\u001b[0;34m\u001b[0m\u001b[0;34m\u001b[0m\u001b[0m\n\u001b[1;32m    530\u001b[0m             \u001b[0;32melse\u001b[0m\u001b[0;34m:\u001b[0m\u001b[0;34m\u001b[0m\u001b[0;34m\u001b[0m\u001b[0m\n\u001b[0;32m--> 531\u001b[0;31m                 \u001b[0mmean\u001b[0m\u001b[0;34m.\u001b[0m\u001b[0mappend\u001b[0m\u001b[0;34m(\u001b[0m\u001b[0mweight\u001b[0m \u001b[0;34m*\u001b[0m \u001b[0mself\u001b[0m\u001b[0;34m.\u001b[0m\u001b[0mword_vec\u001b[0m\u001b[0;34m(\u001b[0m\u001b[0mword\u001b[0m\u001b[0;34m,\u001b[0m \u001b[0muse_norm\u001b[0m\u001b[0;34m=\u001b[0m\u001b[0;32mTrue\u001b[0m\u001b[0;34m)\u001b[0m\u001b[0;34m)\u001b[0m\u001b[0;34m\u001b[0m\u001b[0;34m\u001b[0m\u001b[0m\n\u001b[0m\u001b[1;32m    532\u001b[0m                 \u001b[0;32mif\u001b[0m \u001b[0mword\u001b[0m \u001b[0;32min\u001b[0m \u001b[0mself\u001b[0m\u001b[0;34m.\u001b[0m\u001b[0mvocab\u001b[0m\u001b[0;34m:\u001b[0m\u001b[0;34m\u001b[0m\u001b[0;34m\u001b[0m\u001b[0m\n\u001b[1;32m    533\u001b[0m                     \u001b[0mall_words\u001b[0m\u001b[0;34m.\u001b[0m\u001b[0madd\u001b[0m\u001b[0;34m(\u001b[0m\u001b[0mself\u001b[0m\u001b[0;34m.\u001b[0m\u001b[0mvocab\u001b[0m\u001b[0;34m[\u001b[0m\u001b[0mword\u001b[0m\u001b[0;34m]\u001b[0m\u001b[0;34m.\u001b[0m\u001b[0mindex\u001b[0m\u001b[0;34m)\u001b[0m\u001b[0;34m\u001b[0m\u001b[0;34m\u001b[0m\u001b[0m\n",
            "\u001b[0;32m/usr/local/lib/python3.7/dist-packages/gensim/models/keyedvectors.py\u001b[0m in \u001b[0;36mword_vec\u001b[0;34m(self, word, use_norm)\u001b[0m\n\u001b[1;32m    450\u001b[0m             \u001b[0;32mreturn\u001b[0m \u001b[0mresult\u001b[0m\u001b[0;34m\u001b[0m\u001b[0;34m\u001b[0m\u001b[0m\n\u001b[1;32m    451\u001b[0m         \u001b[0;32melse\u001b[0m\u001b[0;34m:\u001b[0m\u001b[0;34m\u001b[0m\u001b[0;34m\u001b[0m\u001b[0m\n\u001b[0;32m--> 452\u001b[0;31m             \u001b[0;32mraise\u001b[0m \u001b[0mKeyError\u001b[0m\u001b[0;34m(\u001b[0m\u001b[0;34m\"word '%s' not in vocabulary\"\u001b[0m \u001b[0;34m%\u001b[0m \u001b[0mword\u001b[0m\u001b[0;34m)\u001b[0m\u001b[0;34m\u001b[0m\u001b[0;34m\u001b[0m\u001b[0m\n\u001b[0m\u001b[1;32m    453\u001b[0m \u001b[0;34m\u001b[0m\u001b[0m\n\u001b[1;32m    454\u001b[0m     \u001b[0;32mdef\u001b[0m \u001b[0mget_vector\u001b[0m\u001b[0;34m(\u001b[0m\u001b[0mself\u001b[0m\u001b[0;34m,\u001b[0m \u001b[0mword\u001b[0m\u001b[0;34m)\u001b[0m\u001b[0;34m:\u001b[0m\u001b[0;34m\u001b[0m\u001b[0;34m\u001b[0m\u001b[0m\n",
            "\u001b[0;31mKeyError\u001b[0m: \"word 'hate' not in vocabulary\""
          ]
        }
      ]
    },
    {
      "cell_type": "code",
      "metadata": {
        "colab": {
          "base_uri": "https://localhost:8080/",
          "height": 367
        },
        "id": "2Tow1Cb84Nfu",
        "outputId": "aa74cdab-1b5e-426e-b262-3a27dcc0fe18"
      },
      "source": [
        "#tokenizing\n",
        "from keras.preprocessing.text import Tokenizer\n",
        "from keras.preprocessing.sequence import pad_sequence\n",
        "from keras.model import Sequential\n",
        "from keras.layers import Dense, LSTM, Embedding, Dropout\n",
        "from keras.utils.np_utils import to_categorial\n",
        "\n",
        "max_sequence_length = 300 #length of tweet\n",
        "embedding_dim = 300\n",
        "tokenizer = Tokenizer()\n",
        "tokenizer.fit_on_texts(X_test.text)\n",
        "word_index = tokenizer.word_index\n",
        "vocab_size = len(word_index)\n",
        "print('found %s unique tokens', len(word_index))\n",
        "\n",
        "#convert the data to sequence \n",
        "X_train_padded = tokenizer_texts_sequence(X_train.text)\n",
        "X_train_padded = pad_sequence(X_train_padded, maxlen=max_sequence_length)\n",
        "print('Shape of data tensor:', X_train_padded.shape)"
      ],
      "execution_count": null,
      "outputs": [
        {
          "output_type": "error",
          "ename": "ImportError",
          "evalue": "ignored",
          "traceback": [
            "\u001b[0;31m---------------------------------------------------------------------------\u001b[0m",
            "\u001b[0;31mImportError\u001b[0m                               Traceback (most recent call last)",
            "\u001b[0;32m<ipython-input-53-6924d388cdce>\u001b[0m in \u001b[0;36m<module>\u001b[0;34m()\u001b[0m\n\u001b[1;32m      1\u001b[0m \u001b[0;31m#tokenizing\u001b[0m\u001b[0;34m\u001b[0m\u001b[0;34m\u001b[0m\u001b[0;34m\u001b[0m\u001b[0m\n\u001b[1;32m      2\u001b[0m \u001b[0;32mfrom\u001b[0m \u001b[0mkeras\u001b[0m\u001b[0;34m.\u001b[0m\u001b[0mpreprocessing\u001b[0m\u001b[0;34m.\u001b[0m\u001b[0mtext\u001b[0m \u001b[0;32mimport\u001b[0m \u001b[0mTokenizer\u001b[0m\u001b[0;34m\u001b[0m\u001b[0;34m\u001b[0m\u001b[0m\n\u001b[0;32m----> 3\u001b[0;31m \u001b[0;32mfrom\u001b[0m \u001b[0mkeras\u001b[0m\u001b[0;34m.\u001b[0m\u001b[0mpreprocessing\u001b[0m\u001b[0;34m.\u001b[0m\u001b[0msequence\u001b[0m \u001b[0;32mimport\u001b[0m \u001b[0mpad_sequence\u001b[0m\u001b[0;34m\u001b[0m\u001b[0;34m\u001b[0m\u001b[0m\n\u001b[0m\u001b[1;32m      4\u001b[0m \u001b[0;32mfrom\u001b[0m \u001b[0mkeras\u001b[0m\u001b[0;34m.\u001b[0m\u001b[0mmodel\u001b[0m \u001b[0;32mimport\u001b[0m \u001b[0mSequential\u001b[0m\u001b[0;34m\u001b[0m\u001b[0;34m\u001b[0m\u001b[0m\n\u001b[1;32m      5\u001b[0m \u001b[0;32mfrom\u001b[0m \u001b[0mkeras\u001b[0m\u001b[0;34m.\u001b[0m\u001b[0mlayers\u001b[0m \u001b[0;32mimport\u001b[0m \u001b[0mDense\u001b[0m\u001b[0;34m,\u001b[0m \u001b[0mLSTM\u001b[0m\u001b[0;34m,\u001b[0m \u001b[0mEmbedding\u001b[0m\u001b[0;34m,\u001b[0m \u001b[0mDropout\u001b[0m\u001b[0;34m\u001b[0m\u001b[0;34m\u001b[0m\u001b[0m\n",
            "\u001b[0;31mImportError\u001b[0m: cannot import name 'pad_sequence'",
            "",
            "\u001b[0;31m---------------------------------------------------------------------------\u001b[0;32m\nNOTE: If your import is failing due to a missing package, you can\nmanually install dependencies using either !pip or !apt.\n\nTo view examples of installing some common dependencies, click the\n\"Open Examples\" button below.\n\u001b[0;31m---------------------------------------------------------------------------\u001b[0m\n"
          ]
        }
      ]
    },
    {
      "cell_type": "code",
      "metadata": {
        "id": "9ChWgW4uAQ3U"
      },
      "source": [
        "import pickle\n",
        "with open('tokenizer.pickle','wb') as handle:\n",
        "  pickle.dump(tokenizer, handle, protocol = pickle.HIGHEST_PROTOCOL)"
      ],
      "execution_count": null,
      "outputs": []
    },
    {
      "cell_type": "code",
      "metadata": {
        "id": "HkIbkMusCBUE"
      },
      "source": [
        "#matrix\n",
        "embedding_matrix= np.zeros((vocab_size+1,W2V_SIZE))\n",
        "for word, i in tokenizer.word_index.items():\n",
        "  if word in w2v_model.mv:\n",
        "    embedding_matterix[i] = w2v_model.mv[word]\n",
        "print(embedding_matrix.shape)\n"
      ],
      "execution_count": null,
      "outputs": []
    },
    {
      "cell_type": "code",
      "metadata": {
        "id": "qIfz6KOCDMg0"
      },
      "source": [
        "from keras \n",
        "model = Sequential()\n",
        "model.add(Embedding(vocab_size+1, W2V_SiZE,weights = [embedding_matrix], input_length = max_sequence_length, trainable = False))\n",
        "model.add(Dropout(.5))\n",
        "model.add(LSTM(100, dropout(02), recurrent_dropout = .2)\n",
        "model.add(Dense(1,activation = 'Sigmoid'))\n",
        "\n",
        "model.summary()\n",
        "\n",
        "model.compile(loss = 'binary_crossentropy', optimizer = \"adam\", matrics = ['accuracy'])\n",
        "\n",
        "\n",
        " "
      ],
      "execution_count": null,
      "outputs": []
    },
    {
      "cell_type": "code",
      "metadata": {
        "id": "C74hI1xFNUHh"
      },
      "source": [
        "'''\n",
        "# Training \n",
        "from keras.callbacks import ReduceLROnPlateau, EarlyStopping\n",
        "callbacks = [ ReduceLROnPlateau(monitor='val_loss', patience=5, cooldown=0),\n",
        "              EarlyStopping(monitor='val_acc', min_delta=1e-4, patience=5)]\n",
        "\n",
        "BATCH_SIZE = 1024\n",
        "history = model.fit(X_train_padded, y_train,\n",
        "                    batch_size=512,\n",
        "                    epochs=5,\n",
        "                    validation_split=0.1,\n",
        "                    verbose=1,\n",
        "                    callbacks=callbacks)\n",
        "'''"
      ],
      "execution_count": null,
      "outputs": []
    },
    {
      "cell_type": "code",
      "metadata": {
        "id": "jTW0qFExNaOQ"
      },
      "source": [
        "from keras.models import load_model #loadmodel\n",
        "model = load_model('Sentiment_LSTM_model.h5')"
      ],
      "execution_count": null,
      "outputs": []
    },
    {
      "cell_type": "code",
      "metadata": {
        "id": "1TPBKd6QNuXL"
      },
      "source": [
        "import matplotlib.pyplat as plt\n",
        "X_test_padded = tokenizer.texts_to_sequences(X_test.text)\n",
        "X_test_padded = pad_sequences(X_test_padded,maxlen =max_sequence_length)\n",
        "score = model.evaluate(X_test_padded,y_test,batch_size=512)\n",
        "print(\"Accuracy:\", score[1])\n",
        "acc = history.history['acc']\n",
        "val_acc = history.history['val_acc']\n",
        "loss = history.history['loss']\n",
        "val_loss = history.history['val_loss']\n",
        "\n",
        "epochs = range(len(acc))\n",
        "\n",
        "plt.plot(epochs,acc,'b', label = 'Training acc')\n",
        "plt.plot(epochs,val_acc,'r',label = 'validation acc')\n",
        "plt.title('Training and validation accuracy')\n",
        "plt.legend()\n",
        "\n",
        "plt.figure()\n",
        "\n",
        "plt.plot(epochs, loss,'b', label= 'Training loss')\n",
        "plt.plot(epochs, val_loss, 'r', label = 'validation loss')\n",
        "plt.title('training and validation loss')\n",
        "plt.legend()\n",
        "\n",
        "plt.show()"
      ],
      "execution_count": null,
      "outputs": []
    },
    {
      "cell_type": "code",
      "metadata": {
        "id": "P_rktQGeR4hn"
      },
      "source": [
        "def predict(text,include_neutral = True):\n",
        "  x_test = pad_sequence(tokenizer.texts_to_sequences([text]),maxlen = max_sequence_length)\n",
        "  score = model.predict([x_text])[0]\n",
        "  if(score >=0.4 and score<= 0.6):\n",
        "    label = \"neutral\"\n",
        "  if(score<=0.4):\n",
        "    label =\"Negative\"\n",
        "  if(score>= 0.6):\n",
        "    label = \"Positive\"\n",
        "  return { \"label\" : label ,\"score\" : float(score)}"
      ],
      "execution_count": null,
      "outputs": []
    },
    {
      "cell_type": "code",
      "metadata": {
        "id": "rHYRHvlaUDQo"
      },
      "source": [
        "predict(\"i hate laptop\")"
      ],
      "execution_count": null,
      "outputs": []
    }
  ]
}